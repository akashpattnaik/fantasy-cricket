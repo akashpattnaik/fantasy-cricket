{
 "cells": [
  {
   "cell_type": "code",
   "execution_count": 1,
   "metadata": {
    "ExecuteTime": {
     "end_time": "2020-10-04T17:40:03.983996Z",
     "start_time": "2020-10-04T17:40:02.503586Z"
    }
   },
   "outputs": [],
   "source": [
    "import requests\n",
    "from bs4 import BeautifulSoup\n",
    "import pandas as pd\n",
    "import re\n"
   ]
  },
  {
   "cell_type": "code",
   "execution_count": 2,
   "metadata": {
    "ExecuteTime": {
     "end_time": "2020-10-04T17:40:43.150161Z",
     "start_time": "2020-10-04T17:40:43.064269Z"
    }
   },
   "outputs": [],
   "source": [
    "with open(\"ipl_players.json\") as f:\n",
    "    data = json.load(f)\n",
    "players_df = pd.DataFrame.from_dict(data).transpose()\n",
    "players_df.columns = [\"Team\", \"Overseas/Domestic\", \"Role\", \"Commentary Name\"]\n",
    "players_df.index.name = \"Name\"\n",
    "players_df.reset_index(inplace=True)\n"
   ]
  },
  {
   "cell_type": "code",
   "execution_count": 3,
   "metadata": {
    "ExecuteTime": {
     "end_time": "2020-10-04T17:41:40.514849Z",
     "start_time": "2020-10-04T17:41:40.502847Z"
    }
   },
   "outputs": [],
   "source": [
    "names_dict = dict(zip(players_df['Name'], players_df['Commentary Name']))\n",
    "series_id = 8048; match_id = 1216513"
   ]
  },
  {
   "cell_type": "code",
   "execution_count": 18,
   "metadata": {
    "ExecuteTime": {
     "end_time": "2020-10-04T17:45:49.235492Z",
     "start_time": "2020-10-04T17:45:49.213246Z"
    }
   },
   "outputs": [],
   "source": [
    "def find_xis(names_dict, series_id, match_id):\n",
    "    URL = 'https://www.espncricinfo.com/series/'+ str(series_id) + '/scorecard/' + str(match_id)\n",
    "    page = requests.get(URL)\n",
    "    bs = BeautifulSoup(page.content, 'lxml')\n",
    "\n",
    "    table_body=bs.find_all('tbody')\n",
    "    xis = []\n",
    "    table_foot = bs.find_all('tfoot')\n",
    "\n",
    "    for i, table in enumerate(table_foot):\n",
    "        rows = table.find_all('tr')\n",
    "#         if len(rows) == 3:\n",
    "        dnb_names = rows[1].find_all('span')\n",
    "        dnb_names = [x.text.replace(u'\\xa0', '').strip(' ,') for x in dnb_names]\n",
    "        dnb_names = [re.sub(r\"\\W+\", ' ', i.split(\"(c)\")[0]).strip() for i in dnb_names]\n",
    "        dnb_names = [i for i in dnb_names if i]\n",
    "        xis.extend(dnb_names)\n",
    " \n",
    "    for i, table in enumerate(table_body):\n",
    "        rows = table.find_all('tr')\n",
    "        for row in rows:\n",
    "            cols=row.find_all('td')\n",
    "            cols=[x.text.strip() for x in cols]\n",
    "            if len(cols) >= 8:\n",
    "                xis.append(re.sub(r\"\\W+\", ' ', cols[0].split(\"(c)\")[0]).strip())\n",
    "            if len(cols) == 2:\n",
    "                if cols[1] == 'Batsman' or cols[1] == 'Allrounder' or cols[1] == 'Bowler' or cols[1] == 'Wicketkeeper':\n",
    "                    name = re.sub(r\"\\W+\", ' ', cols[0].split(\"(c)\")[0]).strip()\n",
    "                    xis.append(names_dict[name])\n",
    "    return set(xis)\n"
   ]
  },
  {
   "cell_type": "code",
   "execution_count": 19,
   "metadata": {
    "ExecuteTime": {
     "end_time": "2020-10-04T17:45:51.918264Z",
     "start_time": "2020-10-04T17:45:49.693867Z"
    }
   },
   "outputs": [
    {
     "name": "stdout",
     "output_type": "stream",
     "text": [
      "[<tr class=\"thead-light bg-light total\"><td colspan=\"1\">TOTAL</td><td class=\"text-left\">(20 Ov, RR: 8.9)</td><td class=\"text-right font-weight-bold\" colspan=\"1\">178/4</td><td class=\"text-right\" colspan=\"7\"></td></tr>, <tr><td colspan=\"9\"><div><strong>Did not bat: </strong><a class=\"small\" data-hover=\"\" href=\"https://www.espncricinfo.com/ci/content/player/288992.html\" rel=\"\" target=\"_parent\"><span>CJ Jordan<!-- -->,<!-- --> </span></a><a class=\"small\" data-hover=\"\" href=\"https://www.espncricinfo.com/ci/content/player/1168641.html\" rel=\"\" target=\"_parent\"><span>Harpreet Brar<!-- -->,<!-- --> </span></a><a class=\"small\" data-hover=\"\" href=\"https://www.espncricinfo.com/ci/content/player/1175441.html\" rel=\"\" target=\"_parent\"><span>Ravi Bishnoi<!-- -->,<!-- --> </span></a><a class=\"small\" data-hover=\"\" href=\"https://www.espncricinfo.com/ci/content/player/481896.html\" rel=\"\" target=\"_parent\"><span>Mohammed Shami<!-- -->,<!-- --> </span></a><a class=\"small\" data-hover=\"\" href=\"https://www.espncricinfo.com/ci/content/player/495551.html\" rel=\"\" target=\"_parent\"><span>SS Cottrell<!-- --> </span></a></div></td></tr>, <tr><td colspan=\"9\"><strong>Fall of wickets: </strong><span>1-61 (Mayank Agarwal, 8.1 ov)</span><span>, <!-- -->2-94 (Mandeep Singh, 11.6 ov)</span><span>, <!-- -->3-152 (Nicholas Pooran, 17.1 ov)</span><span>, <!-- -->4-152 (KL Rahul, 17.2 ov)</span></td></tr>]\n",
      "[<tr class=\"thead-light bg-light total\"><td colspan=\"1\">TOTAL</td><td class=\"text-left\">(17.4 Ov, RR: 10.24)</td><td class=\"text-right font-weight-bold\" colspan=\"1\">181/0</td><td class=\"text-right\" colspan=\"7\"></td></tr>, <tr><td colspan=\"9\"><div><strong>Did not bat: </strong><a class=\"small\" data-hover=\"\" href=\"https://www.espncricinfo.com/ci/content/player/33141.html\" rel=\"\" target=\"_parent\"><span>AT Rayudu<!-- -->,<!-- --> </span></a><a class=\"small\" data-hover=\"\" href=\"https://www.espncricinfo.com/ci/content/player/290716.html\" rel=\"\" target=\"_parent\"><span>KM Jadhav<!-- -->,<!-- --> </span></a><a class=\"small\" data-hover=\"\" href=\"https://www.espncricinfo.com/ci/content/player/28081.html\" rel=\"\" target=\"_parent\"><span>MS Dhoni<span> (c) †</span>,<!-- --> </span></a><a class=\"small\" data-hover=\"\" href=\"https://www.espncricinfo.com/ci/content/player/234675.html\" rel=\"\" target=\"_parent\"><span>RA Jadeja<!-- -->,<!-- --> </span></a><a class=\"small\" data-hover=\"\" href=\"https://www.espncricinfo.com/ci/content/player/662973.html\" rel=\"\" target=\"_parent\"><span>SM Curran<!-- -->,<!-- --> </span></a><a class=\"small\" data-hover=\"\" href=\"https://www.espncricinfo.com/ci/content/player/51439.html\" rel=\"\" target=\"_parent\"><span>DJ Bravo<!-- -->,<!-- --> </span></a><a class=\"small\" data-hover=\"\" href=\"https://www.espncricinfo.com/ci/content/player/32966.html\" rel=\"\" target=\"_parent\"><span>PP Chawla<!-- -->,<!-- --> </span></a><a class=\"small\" data-hover=\"\" href=\"https://www.espncricinfo.com/ci/content/player/475281.html\" rel=\"\" target=\"_parent\"><span>SN Thakur<!-- -->,<!-- --> </span></a><a class=\"small\" data-hover=\"\" href=\"https://www.espncricinfo.com/ci/content/player/447261.html\" rel=\"\" target=\"_parent\"><span>DL Chahar<!-- --> </span></a></div></td></tr>]\n"
     ]
    },
    {
     "data": {
      "text/plain": [
       "{'CJ Jordan',\n",
       " 'DJ Bravo',\n",
       " 'DL Chahar',\n",
       " 'F du Plessis',\n",
       " 'GJ Maxwell',\n",
       " 'Harpreet Brar',\n",
       " 'KL Rahul',\n",
       " 'MA Agarwal',\n",
       " 'Mandeep Singh',\n",
       " 'Mohammed Shami',\n",
       " 'N Pooran',\n",
       " 'PP Chawla',\n",
       " 'RA Jadeja',\n",
       " 'Ravi Bishnoi',\n",
       " 'SM Curran',\n",
       " 'SN Khan',\n",
       " 'SN Thakur',\n",
       " 'SR Watson',\n",
       " 'SS Cottrell'}"
      ]
     },
     "execution_count": 19,
     "metadata": {},
     "output_type": "execute_result"
    }
   ],
   "source": [
    "find_xis(names_dict, series_id = series_id, match_id = match_id)"
   ]
  },
  {
   "cell_type": "code",
   "execution_count": 9,
   "metadata": {
    "ExecuteTime": {
     "end_time": "2020-10-04T17:42:42.301497Z",
     "start_time": "2020-10-04T17:42:42.282782Z"
    }
   },
   "outputs": [
    {
     "data": {
      "text/plain": [
       "{'CJ Jordan',\n",
       " 'DJ Bravo',\n",
       " 'DL Chahar',\n",
       " 'F du Plessis',\n",
       " 'GJ Maxwell',\n",
       " 'Harpreet Brar',\n",
       " 'KL Rahul',\n",
       " 'MA Agarwal',\n",
       " 'Mandeep Singh',\n",
       " 'Mohammed Shami',\n",
       " 'N Pooran',\n",
       " 'PP Chawla',\n",
       " 'RA Jadeja',\n",
       " 'Ravi Bishnoi',\n",
       " 'SM Curran',\n",
       " 'SN Khan',\n",
       " 'SN Thakur',\n",
       " 'SR Watson',\n",
       " 'SS Cottrell'}"
      ]
     },
     "execution_count": 9,
     "metadata": {},
     "output_type": "execute_result"
    }
   ],
   "source": [
    "xis"
   ]
  },
  {
   "cell_type": "code",
   "execution_count": null,
   "metadata": {},
   "outputs": [],
   "source": []
  }
 ],
 "metadata": {
  "kernelspec": {
   "display_name": "Python 3",
   "language": "python",
   "name": "python3"
  },
  "language_info": {
   "codemirror_mode": {
    "name": "ipython",
    "version": 3
   },
   "file_extension": ".py",
   "mimetype": "text/x-python",
   "name": "python",
   "nbconvert_exporter": "python",
   "pygments_lexer": "ipython3",
   "version": "3.7.9"
  },
  "varInspector": {
   "cols": {
    "lenName": 16,
    "lenType": 16,
    "lenVar": 40
   },
   "kernels_config": {
    "python": {
     "delete_cmd_postfix": "",
     "delete_cmd_prefix": "del ",
     "library": "var_list.py",
     "varRefreshCmd": "print(var_dic_list())"
    },
    "r": {
     "delete_cmd_postfix": ") ",
     "delete_cmd_prefix": "rm(",
     "library": "var_list.r",
     "varRefreshCmd": "cat(var_dic_list()) "
    }
   },
   "types_to_exclude": [
    "module",
    "function",
    "builtin_function_or_method",
    "instance",
    "_Feature"
   ],
   "window_display": false
  }
 },
 "nbformat": 4,
 "nbformat_minor": 4
}
