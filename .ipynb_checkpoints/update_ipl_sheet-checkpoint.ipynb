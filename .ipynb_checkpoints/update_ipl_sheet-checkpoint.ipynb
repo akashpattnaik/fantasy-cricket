{
 "cells": [
  {
   "cell_type": "code",
   "execution_count": 3,
   "metadata": {
    "ExecuteTime": {
     "end_time": "2020-09-19T05:28:21.431425Z",
     "start_time": "2020-09-19T05:28:20.098210Z"
    }
   },
   "outputs": [],
   "source": [
    "import gspread\n",
    "from oauth2client.service_account import ServiceAccountCredentials\n",
    "import pandas as pd "
   ]
  },
  {
   "cell_type": "code",
   "execution_count": 29,
   "metadata": {
    "ExecuteTime": {
     "end_time": "2020-09-19T05:40:48.218938Z",
     "start_time": "2020-09-19T05:40:46.229512Z"
    }
   },
   "outputs": [],
   "source": [
    "scope = ['https://spreadsheets.google.com/feeds','https://www.googleapis.com/auth/drive']\n",
    "creds = ServiceAccountCredentials.from_json_keyfile_name('client-secret.json', scope)\n",
    "client = gspread.authorize(creds)\n",
    "sh = client.open('Fantasy Cricket')\n",
    "squad_sheet = sh.worksheet(\"IPL Squads\")\n",
    "\n",
    "squad_sheet_df = pd.DataFrame(squad_sheet.get_all_records())\n",
    "points_mat = np.load(\"ipl_points_matrix.npy\")\n",
    "\n",
    "with open(\"ipl_players.json\") as f:\n",
    "    data = json.load(f)\n",
    "    \n",
    "all_players = list(data.keys())\n",
    "\n",
    "def update_ipl_sheet():\n",
    "\n",
    "    pass\n",
    "#     for index, row in selected_teams_df.iterrows():\n",
    "#         if not isinstance(row[\"Number\"], int):\n",
    "#             continue\n",
    "\n",
    "#         full_name = row[\"Player\"]\n",
    "#         capt = row[\"Captain/Vice Captain\"]\n",
    "\n",
    "#         commentary_name = names_dict[full_name]\n",
    "#         fantasy_points = points_dict[commentary_name]\n",
    "\n",
    "#         if capt == \"Captain\":\n",
    "#             fantasy_points = fantasy_points * points[\"capt_factor\"]\n",
    "#         if capt == \"Vice Captain\":\n",
    "#             fantasy_points = fantasy_points * points[\"vc_factor\"]\n",
    "\n",
    "#         selected_teams_sheet.update('G' + str(index+2), fantasy_points)\n",
    "update_ipl_sheet()"
   ]
  },
  {
   "cell_type": "code",
   "execution_count": 34,
   "metadata": {
    "ExecuteTime": {
     "end_time": "2020-09-19T05:46:01.528326Z",
     "start_time": "2020-09-19T05:46:00.663971Z"
    }
   },
   "outputs": [],
   "source": [
    "player_cols = ['A', 'D', 'G']\n",
    "\n",
    "for col in player_cols:\n",
    "    next_col = chr(ord(col) + 1)\n",
    "    squad = squad_sheet.get('{}2:{}26'.format(col, col))\n",
    "    squad_points = []\n",
    "    for player in squad:\n",
    "        player_ind = all_players.index(player[0])\n",
    "        squad_points.append(int(np.sum(points_mat[:, player_ind])))\n",
    "    squad_points = [[i] for i in squad_points]\n",
    "    squad_sheet.update('{}2:{}26'.format(next_col, next_col), squad_points)"
   ]
  },
  {
   "cell_type": "code",
   "execution_count": 18,
   "metadata": {
    "ExecuteTime": {
     "end_time": "2020-09-19T05:34:36.477375Z",
     "start_time": "2020-09-19T05:34:36.460749Z"
    }
   },
   "outputs": [
    {
     "data": {
      "text/plain": [
       "'B'"
      ]
     },
     "execution_count": 18,
     "metadata": {},
     "output_type": "execute_result"
    }
   ],
   "source": [
    "chr(ord('A') + 1)"
   ]
  },
  {
   "cell_type": "code",
   "execution_count": null,
   "metadata": {},
   "outputs": [],
   "source": []
  }
 ],
 "metadata": {
  "kernelspec": {
   "display_name": "Python 3",
   "language": "python",
   "name": "python3"
  },
  "language_info": {
   "codemirror_mode": {
    "name": "ipython",
    "version": 3
   },
   "file_extension": ".py",
   "mimetype": "text/x-python",
   "name": "python",
   "nbconvert_exporter": "python",
   "pygments_lexer": "ipython3",
   "version": "3.7.9"
  },
  "varInspector": {
   "cols": {
    "lenName": 16,
    "lenType": 16,
    "lenVar": 40
   },
   "kernels_config": {
    "python": {
     "delete_cmd_postfix": "",
     "delete_cmd_prefix": "del ",
     "library": "var_list.py",
     "varRefreshCmd": "print(var_dic_list())"
    },
    "r": {
     "delete_cmd_postfix": ") ",
     "delete_cmd_prefix": "rm(",
     "library": "var_list.r",
     "varRefreshCmd": "cat(var_dic_list()) "
    }
   },
   "types_to_exclude": [
    "module",
    "function",
    "builtin_function_or_method",
    "instance",
    "_Feature"
   ],
   "window_display": false
  }
 },
 "nbformat": 4,
 "nbformat_minor": 4
}
