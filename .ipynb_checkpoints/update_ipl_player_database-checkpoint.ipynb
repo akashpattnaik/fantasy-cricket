{
 "cells": [
  {
   "cell_type": "code",
   "execution_count": 1,
   "metadata": {
    "ExecuteTime": {
     "end_time": "2020-09-28T14:08:59.122922Z",
     "start_time": "2020-09-28T14:08:34.044494Z"
    }
   },
   "outputs": [],
   "source": [
    "import gspread\n",
    "from oauth2client.service_account import ServiceAccountCredentials\n",
    "import pandas as pd "
   ]
  },
  {
   "cell_type": "code",
   "execution_count": 43,
   "metadata": {
    "ExecuteTime": {
     "end_time": "2020-09-19T05:55:45.447730Z",
     "start_time": "2020-09-19T05:55:41.464656Z"
    }
   },
   "outputs": [],
   "source": [
    "def update_ipl_sheet():\n",
    "    scope = ['https://spreadsheets.google.com/feeds','https://www.googleapis.com/auth/drive']\n",
    "    creds = ServiceAccountCredentials.from_json_keyfile_name('client-secret.json', scope)\n",
    "    client = gspread.authorize(creds)\n",
    "    sh = client.open('Fantasy Cricket')\n",
    "    squad_sheet = sh.worksheet(\"IPL Squads\")\n",
    "\n",
    "    squad_sheet_df = pd.DataFrame(squad_sheet.get_all_records())\n",
    "    points_mat = np.load(\"ipl_points_matrix.npy\")\n",
    "\n",
    "    with open(\"ipl_players.json\") as f:\n",
    "        data = json.load(f)\n",
    "\n",
    "    all_players = list(data.keys())\n",
    "\n",
    "    player_cols = ['A', 'D', 'G']\n",
    "    for col in player_cols:\n",
    "        next_col = chr(ord(col) + 1)\n",
    "        squad = squad_sheet.get('{}2:{}26'.format(col, col))\n",
    "        squad_points = []\n",
    "        for player in squad:\n",
    "            player_ind = all_players.index(player[0])\n",
    "            squad_points.append(int(np.sum(points_mat[:, player_ind])))\n",
    "        squad_points = [[i] for i in squad_points]\n",
    "        squad_sheet.update('{}2:{}26'.format(next_col, next_col), squad_points)\n",
    "update_ipl_sheet()"
   ]
  },
  {
   "cell_type": "code",
   "execution_count": 44,
   "metadata": {
    "ExecuteTime": {
     "end_time": "2020-09-19T06:00:16.708415Z",
     "start_time": "2020-09-19T06:00:16.694799Z"
    }
   },
   "outputs": [],
   "source": [
    "match_ids = np.load(\"ipl_match_ids.npy\")"
   ]
  },
  {
   "cell_type": "code",
   "execution_count": 46,
   "metadata": {
    "ExecuteTime": {
     "end_time": "2020-09-19T06:00:25.175155Z",
     "start_time": "2020-09-19T06:00:25.148729Z"
    }
   },
   "outputs": [
    {
     "data": {
      "text/plain": [
       "['1216492',\n",
       " '1216493',\n",
       " '1216534',\n",
       " '1216496',\n",
       " '1216508',\n",
       " '1216510',\n",
       " '1216539',\n",
       " '1216545',\n",
       " '1216527',\n",
       " '1216547',\n",
       " '1216532',\n",
       " '1216504',\n",
       " '1216503',\n",
       " '1216516',\n",
       " '1216514',\n",
       " '1216515',\n",
       " '1216538',\n",
       " '1216513',\n",
       " '1216519',\n",
       " '1216511',\n",
       " '1216501',\n",
       " '1216542',\n",
       " '1216500',\n",
       " '1216523',\n",
       " '1216525',\n",
       " '1216507',\n",
       " '1216529',\n",
       " '1216540',\n",
       " '1216528',\n",
       " '1216543',\n",
       " '1216531',\n",
       " '1216526',\n",
       " '1216522',\n",
       " '1216509',\n",
       " '1216512',\n",
       " '1216517',\n",
       " '1216533',\n",
       " '1216546',\n",
       " '1216494',\n",
       " '1216518',\n",
       " '1216521',\n",
       " '1216497',\n",
       " '1216498',\n",
       " '1216544',\n",
       " '1216541',\n",
       " '1216520',\n",
       " '1216524',\n",
       " '1216499',\n",
       " '1216536',\n",
       " '1216537',\n",
       " '1216535',\n",
       " '1216502',\n",
       " '1216506',\n",
       " '1216530',\n",
       " '1216505',\n",
       " '1216495']"
      ]
     },
     "execution_count": 46,
     "metadata": {},
     "output_type": "execute_result"
    }
   ],
   "source": [
    "list(match_ids)"
   ]
  },
  {
   "cell_type": "code",
   "execution_count": null,
   "metadata": {},
   "outputs": [],
   "source": []
  }
 ],
 "metadata": {
  "kernelspec": {
   "display_name": "Python 3",
   "language": "python",
   "name": "python3"
  },
  "language_info": {
   "codemirror_mode": {
    "name": "ipython",
    "version": 3
   },
   "file_extension": ".py",
   "mimetype": "text/x-python",
   "name": "python",
   "nbconvert_exporter": "python",
   "pygments_lexer": "ipython3",
   "version": "3.7.9"
  },
  "varInspector": {
   "cols": {
    "lenName": 16,
    "lenType": 16,
    "lenVar": 40
   },
   "kernels_config": {
    "python": {
     "delete_cmd_postfix": "",
     "delete_cmd_prefix": "del ",
     "library": "var_list.py",
     "varRefreshCmd": "print(var_dic_list())"
    },
    "r": {
     "delete_cmd_postfix": ") ",
     "delete_cmd_prefix": "rm(",
     "library": "var_list.r",
     "varRefreshCmd": "cat(var_dic_list()) "
    }
   },
   "types_to_exclude": [
    "module",
    "function",
    "builtin_function_or_method",
    "instance",
    "_Feature"
   ],
   "window_display": false
  }
 },
 "nbformat": 4,
 "nbformat_minor": 4
}
