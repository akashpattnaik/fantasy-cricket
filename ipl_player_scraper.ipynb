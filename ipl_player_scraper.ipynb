{
 "cells": [
  {
   "cell_type": "code",
   "execution_count": 3,
   "metadata": {},
   "outputs": [],
   "source": [
    "import gspread\n",
    "from oauth2client.service_account import ServiceAccountCredentials\n",
    "import requests\n",
    "from bs4 import BeautifulSoup\n",
    "import pandas as pd\n",
    "import re\n",
    "import numpy as np\n",
    "import json\n",
    "\n",
    "pd.set_option('display.max_rows', None)"
   ]
  },
  {
   "cell_type": "code",
   "execution_count": 4,
   "metadata": {},
   "outputs": [],
   "source": [
    "scope = ['https://spreadsheets.google.com/feeds','https://www.googleapis.com/auth/drive']\n",
    "creds = ServiceAccountCredentials.from_json_keyfile_name('client-secret.json', scope)\n",
    "client = gspread.authorize(creds)\n",
    "sh = client.open('Fantasy Cricket')"
   ]
  },
  {
   "cell_type": "code",
   "execution_count": 6,
   "metadata": {},
   "outputs": [],
   "source": [
    "database_sheet = sh.worksheet(\"IPL Player Database\")"
   ]
  },
  {
   "cell_type": "code",
   "execution_count": 7,
   "metadata": {},
   "outputs": [],
   "source": [
    "URL = \"https://www.espncricinfo.com/ci/content/squad/index.html?object=1210595\"\n",
    "page = requests.get(URL)\n",
    "bs = BeautifulSoup(page.content, 'lxml')"
   ]
  },
  {
   "cell_type": "code",
   "execution_count": 8,
   "metadata": {},
   "outputs": [
    {
     "name": "stdout",
     "output_type": "stream",
     "text": [
      "Chennai Super Kings\n",
      "KM Asif\n"
     ]
    }
   ],
   "source": [
    "players = {}\n",
    "columns = []\n",
    "ultag = bs.find('ul', {'class': 'squads_list'})\n",
    "for litag in ultag.find_all('li'):\n",
    "    a = litag.find('a', href=True)\n",
    "    team = \" \".join(a.text.split()[:-1])\n",
    "    print(team)\n",
    "    href = a['href']\n",
    "    squad_URL = \"https://www.espncricinfo.com/\" + href\n",
    "    squad_page = requests.get(squad_URL)\n",
    "    squad_bs = BeautifulSoup(squad_page.content,'lxml')\n",
    "    players_div  = squad_bs.find('div', {'role': 'main'})\n",
    "    player_list = players_div.find_all(\"ul\")[0]\n",
    "    for player in player_list.find_all(\"li\"):\n",
    "        for atag in player.find_all('a', href=True):\n",
    "            name = atag.text.strip()\n",
    "            href = atag['href']\n",
    "        print(name)\n",
    "        players[name] = []\n",
    "        player_attributes = player.find_all('span')\n",
    "        \n",
    "        # Overseas Player\n",
    "        if len(player_attributes) == 5:\n",
    "            players[name].append(\"Overseas\")\n",
    "        else:\n",
    "            players[name].append(\"Domestic\")\n",
    "\n",
    "        # Role\n",
    "        role_list = [span for span in player_attributes if span.find('b') and \"Playing role:\" in span.text]\n",
    "        if (len(role_list) == 0):\n",
    "            players[name].append(\"Unknown\")\n",
    "        else:\n",
    "            role = role_list[0].text.split(':')[-1]\n",
    "            if \"allrounder\" in role or \"Allrounder\" in role:\n",
    "                players[name].append(\"All-Rounder\")\n",
    "            elif 'batsman' in role or 'Batsman' in role:\n",
    "                players[name].append(\"Batsman\")\n",
    "            elif 'Bowler' in role:\n",
    "                players[name].append(\"Bowler\")\n",
    "\n",
    "        # Commentary Name\n",
    "        \n",
    "        player_URL = \"https://www.espncricinfo.com/\" + href\n",
    "\n",
    "        player_page = requests.get(player_URL)\n",
    "        player_bs = BeautifulSoup(player_page.content,'lxml')\n",
    "        \n",
    "        matches_table = player_bs.find(\"div\", {\"class\": \"ciPlayertextbottomborder\"}).find_next_sibling('table')\n",
    "        match_href = matches_table.find(\"a\", href=True)['href']\n",
    "        \n",
    "        \n",
    "        match_URL = \"https://www.espncricinfo.com/\" + match_href\n",
    "        \n",
    "        match_page = requests.get(match_URL)\n",
    "        match_bs = BeautifulSoup(match_page.content,'lxml')\n",
    "        \n",
    "        table_body=match_bs.find_all('tbody')\n",
    "        xis = []\n",
    "        table_foot =match_bs.find_all('tfoot')\n",
    "\n",
    "        for i, table in enumerate(table_foot):\n",
    "            rows = table.find_all('tr')\n",
    "            if len(rows) == 3:\n",
    "                dnb_names = rows[1].find_all('span')\n",
    "                dnb_names = [x.text.replace(u'\\xa0', '').strip(' ,') for x in dnb_names]\n",
    "                dnb_names = [re.sub(r\"\\W+\", ' ', i.split(\"(c)\")[0]).strip() for i in dnb_names]\n",
    "                dnb_names = [i for i in dnb_names if i]\n",
    "                xis.extend(dnb_names)\n",
    "\n",
    "        for i, table in enumerate(table_body):\n",
    "            rows = table.find_all('tr')\n",
    "            for row in rows:\n",
    "                cols=row.find_all('td')\n",
    "                cols=[x.text.strip() for x in cols]\n",
    "                if len(cols) >= 8:\n",
    "                    player_entry = re.sub(r\"\\W+\", ' ', cols[0].split(\"(c)\")[0]).strip()\n",
    "                    if name.split()[-1] in player_entry and len(players[name]) != 3:\n",
    "                        players[name].append(player_entry)\n",
    "                if len(cols) == 2:\n",
    "                    if cols[1] == 'Batsman' or cols[1] == 'Allrounder' or cols[1] == 'Bowler' or cols[1] == 'Wicketkeeper':\n",
    "                        player_entry = re.sub(r\"\\W+\", ' ', cols[0].split(\"(c)\")[0]).strip()\n",
    "                        if name.split()[-1] in player_entry and len(players[name]) != 3:\n",
    "                            players[name].append(player_entry)\n",
    "                if (len(players[name]) == 3):\n",
    "                    break\n",
    "            if (len(players[name]) == 3):\n",
    "                break\n",
    "\n",
    "                            \n",
    "        break\n",
    "    break\n",
    "columns.append(\"Overseas/Domestic\")\n",
    "columns.append(\"Role\")\n",
    "columns.append(\"Commentary Name\")\n",
    "\n",
    "\n",
    "# display(pd.DataFrame.from_dict(players, orient='index', columns=columns))"
   ]
  },
  {
   "cell_type": "code",
   "execution_count": 12,
   "metadata": {},
   "outputs": [],
   "source": []
  },
  {
   "cell_type": "code",
   "execution_count": 13,
   "metadata": {},
   "outputs": [
    {
     "data": {
      "text/html": [
       "<div>\n",
       "<style scoped>\n",
       "    .dataframe tbody tr th:only-of-type {\n",
       "        vertical-align: middle;\n",
       "    }\n",
       "\n",
       "    .dataframe tbody tr th {\n",
       "        vertical-align: top;\n",
       "    }\n",
       "\n",
       "    .dataframe thead th {\n",
       "        text-align: right;\n",
       "    }\n",
       "</style>\n",
       "<table border=\"1\" class=\"dataframe\">\n",
       "  <thead>\n",
       "    <tr style=\"text-align: right;\">\n",
       "      <th></th>\n",
       "      <th>Overseas/Domestic</th>\n",
       "      <th>Role</th>\n",
       "      <th>Commentary Name</th>\n",
       "    </tr>\n",
       "  </thead>\n",
       "  <tbody>\n",
       "    <tr>\n",
       "      <th>KM Asif</th>\n",
       "      <td>Domestic</td>\n",
       "      <td>Bowler</td>\n",
       "      <td>KM Asif</td>\n",
       "    </tr>\n",
       "  </tbody>\n",
       "</table>\n",
       "</div>"
      ],
      "text/plain": [
       "        Overseas/Domestic    Role Commentary Name\n",
       "KM Asif          Domestic  Bowler         KM Asif"
      ]
     },
     "metadata": {},
     "output_type": "display_data"
    }
   ],
   "source": []
  },
  {
   "cell_type": "code",
   "execution_count": 22,
   "metadata": {},
   "outputs": [
    {
     "data": {
      "text/plain": [
       "{'spreadsheetId': '1vCCQ418PRSuohwiLEs8ewKIrhhrIXoTpG3LiKv8kYeo',\n",
       " 'updatedRange': \"'IPL Player Database'!A1:D2\",\n",
       " 'updatedRows': 2,\n",
       " 'updatedColumns': 4,\n",
       " 'updatedCells': 7}"
      ]
     },
     "execution_count": 22,
     "metadata": {},
     "output_type": "execute_result"
    }
   ],
   "source": [
    "players_li = [[name] + players[name] for name in players.keys()]\n",
    "database_sheet.update([[\"Name\", \"Overseas/Domestic\", \"Role\" \"Commentary Name\"]] + players_li)"
   ]
  },
  {
   "cell_type": "code",
   "execution_count": 16,
   "metadata": {},
   "outputs": [
    {
     "data": {
      "text/plain": [
       "{'KM Asif': ['Domestic', 'Bowler', 'KM Asif']}"
      ]
     },
     "execution_count": 16,
     "metadata": {},
     "output_type": "execute_result"
    }
   ],
   "source": [
    "players"
   ]
  },
  {
   "cell_type": "code",
   "execution_count": null,
   "metadata": {},
   "outputs": [],
   "source": []
  }
 ],
 "metadata": {
  "kernelspec": {
   "display_name": "Python 3",
   "language": "python",
   "name": "python3"
  },
  "language_info": {
   "codemirror_mode": {
    "name": "ipython",
    "version": 3
   },
   "file_extension": ".py",
   "mimetype": "text/x-python",
   "name": "python",
   "nbconvert_exporter": "python",
   "pygments_lexer": "ipython3",
   "version": "3.8.3"
  }
 },
 "nbformat": 4,
 "nbformat_minor": 4
}
